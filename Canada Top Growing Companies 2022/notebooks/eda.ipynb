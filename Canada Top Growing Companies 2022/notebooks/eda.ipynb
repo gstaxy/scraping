{
 "cells": [
  {
   "cell_type": "code",
   "execution_count": 1,
   "metadata": {},
   "outputs": [],
   "source": [
    "import pandas as pd\n",
    "import numpy as np"
   ]
  },
  {
   "cell_type": "code",
   "execution_count": 2,
   "metadata": {},
   "outputs": [],
   "source": [
    "df = pd.read_csv('../data/tgam_top_growing_companies_2022.csv')"
   ]
  },
  {
   "cell_type": "code",
   "execution_count": 3,
   "metadata": {},
   "outputs": [
    {
     "data": {
      "text/plain": [
       "(430, 21)"
      ]
     },
     "execution_count": 3,
     "metadata": {},
     "output_type": "execute_result"
    }
   ],
   "source": [
    "df.shape"
   ]
  },
  {
   "cell_type": "code",
   "execution_count": 4,
   "metadata": {},
   "outputs": [
    {
     "data": {
      "text/html": [
       "<div>\n",
       "<style scoped>\n",
       "    .dataframe tbody tr th:only-of-type {\n",
       "        vertical-align: middle;\n",
       "    }\n",
       "\n",
       "    .dataframe tbody tr th {\n",
       "        vertical-align: top;\n",
       "    }\n",
       "\n",
       "    .dataframe thead th {\n",
       "        text-align: right;\n",
       "    }\n",
       "</style>\n",
       "<table border=\"1\" class=\"dataframe\">\n",
       "  <thead>\n",
       "    <tr style=\"text-align: right;\">\n",
       "      <th></th>\n",
       "      <th>Rank</th>\n",
       "      <th>Company</th>\n",
       "      <th>Description</th>\n",
       "      <th>3-year revenue growth (%)</th>\n",
       "      <th>revenue_rank</th>\n",
       "      <th>Revenue</th>\n",
       "      <th>Currency</th>\n",
       "      <th>Employees</th>\n",
       "      <th>Headquarters</th>\n",
       "      <th>CEO(s)</th>\n",
       "      <th>...</th>\n",
       "      <th>Stock ticker</th>\n",
       "      <th>Globe Investor link</th>\n",
       "      <th>Past years on ranking</th>\n",
       "      <th>feature_img</th>\n",
       "      <th>feature_img_credit</th>\n",
       "      <th>feature_head</th>\n",
       "      <th>feature_meta</th>\n",
       "      <th>feature_deck</th>\n",
       "      <th>feature_type</th>\n",
       "      <th>feature_class</th>\n",
       "    </tr>\n",
       "  </thead>\n",
       "  <tbody>\n",
       "    <tr>\n",
       "      <th>0</th>\n",
       "      <td>1</td>\n",
       "      <td>Orion Construction Ltd.</td>\n",
       "      <td>Full-service contractor for light industrial a...</td>\n",
       "      <td>12371</td>\n",
       "      <td>9</td>\n",
       "      <td>$75M - $100M</td>\n",
       "      <td>NaN</td>\n",
       "      <td>36</td>\n",
       "      <td>Langley, B.C.</td>\n",
       "      <td>Josh Gaglardi</td>\n",
       "      <td>...</td>\n",
       "      <td>NaN</td>\n",
       "      <td>NaN</td>\n",
       "      <td>NaN</td>\n",
       "      <td>https://www.theglobeandmail.com/files/interact...</td>\n",
       "      <td>Photo by Kamil Bialous</td>\n",
       "      <td>ROB Magazine</td>\n",
       "      <td>https://www.theglobeandmail.com/business/rob-m...</td>\n",
       "      <td>How Orion Construction found a niche to help i...</td>\n",
       "      <td>throw</td>\n",
       "      <td>NaN</td>\n",
       "    </tr>\n",
       "    <tr>\n",
       "      <th>1</th>\n",
       "      <td>2</td>\n",
       "      <td>Power Staffing Solutions</td>\n",
       "      <td>Specializes in staffing and recruiting in IT a...</td>\n",
       "      <td>10406</td>\n",
       "      <td>12</td>\n",
       "      <td>$10M - $25M</td>\n",
       "      <td>NaN</td>\n",
       "      <td>319</td>\n",
       "      <td>Toronto</td>\n",
       "      <td>Saye Sathiyakumar</td>\n",
       "      <td>...</td>\n",
       "      <td>NaN</td>\n",
       "      <td>NaN</td>\n",
       "      <td>NaN</td>\n",
       "      <td>NaN</td>\n",
       "      <td>NaN</td>\n",
       "      <td>NaN</td>\n",
       "      <td>NaN</td>\n",
       "      <td>NaN</td>\n",
       "      <td>NaN</td>\n",
       "      <td>NaN</td>\n",
       "    </tr>\n",
       "  </tbody>\n",
       "</table>\n",
       "<p>2 rows × 21 columns</p>\n",
       "</div>"
      ],
      "text/plain": [
       "   Rank                   Company  \\\n",
       "0     1   Orion Construction Ltd.   \n",
       "1     2  Power Staffing Solutions   \n",
       "\n",
       "                                         Description  \\\n",
       "0  Full-service contractor for light industrial a...   \n",
       "1  Specializes in staffing and recruiting in IT a...   \n",
       "\n",
       "   3-year revenue growth (%)  revenue_rank       Revenue Currency  Employees  \\\n",
       "0                      12371             9  $75M - $100M      NaN         36   \n",
       "1                      10406            12   $10M - $25M      NaN        319   \n",
       "\n",
       "    Headquarters             CEO(s)  ... Stock ticker Globe Investor link  \\\n",
       "0  Langley, B.C.      Josh Gaglardi  ...          NaN                 NaN   \n",
       "1        Toronto  Saye Sathiyakumar  ...          NaN                 NaN   \n",
       "\n",
       "  Past years on ranking                                        feature_img  \\\n",
       "0                   NaN  https://www.theglobeandmail.com/files/interact...   \n",
       "1                   NaN                                                NaN   \n",
       "\n",
       "       feature_img_credit  feature_head  \\\n",
       "0  Photo by Kamil Bialous  ROB Magazine   \n",
       "1                     NaN           NaN   \n",
       "\n",
       "                                        feature_meta  \\\n",
       "0  https://www.theglobeandmail.com/business/rob-m...   \n",
       "1                                                NaN   \n",
       "\n",
       "                                        feature_deck feature_type  \\\n",
       "0  How Orion Construction found a niche to help i...        throw   \n",
       "1                                                NaN          NaN   \n",
       "\n",
       "  feature_class  \n",
       "0           NaN  \n",
       "1           NaN  \n",
       "\n",
       "[2 rows x 21 columns]"
      ]
     },
     "execution_count": 4,
     "metadata": {},
     "output_type": "execute_result"
    }
   ],
   "source": [
    "df.head(2)"
   ]
  },
  {
   "cell_type": "code",
   "execution_count": 5,
   "metadata": {},
   "outputs": [
    {
     "name": "stdout",
     "output_type": "stream",
     "text": [
      "<class 'pandas.core.frame.DataFrame'>\n",
      "RangeIndex: 430 entries, 0 to 429\n",
      "Data columns (total 21 columns):\n",
      " #   Column                     Non-Null Count  Dtype  \n",
      "---  ------                     --------------  -----  \n",
      " 0   Rank                       430 non-null    int64  \n",
      " 1   Company                    430 non-null    object \n",
      " 2   Description                430 non-null    object \n",
      " 3   3-year revenue growth (%)  430 non-null    int64  \n",
      " 4   revenue_rank               430 non-null    int64  \n",
      " 5   Revenue                    430 non-null    object \n",
      " 6   Currency                   28 non-null     object \n",
      " 7   Employees                  430 non-null    int64  \n",
      " 8   Headquarters               430 non-null    object \n",
      " 9   CEO(s)                     430 non-null    object \n",
      " 10  Website                    430 non-null    object \n",
      " 11  Stock ticker               30 non-null     object \n",
      " 12  Globe Investor link        29 non-null     object \n",
      " 13  Past years on ranking      277 non-null    object \n",
      " 14  feature_img                9 non-null      object \n",
      " 15  feature_img_credit         9 non-null      object \n",
      " 16  feature_head               9 non-null      object \n",
      " 17  feature_meta               9 non-null      object \n",
      " 18  feature_deck               9 non-null      object \n",
      " 19  feature_type               9 non-null      object \n",
      " 20  feature_class              0 non-null      float64\n",
      "dtypes: float64(1), int64(4), object(16)\n",
      "memory usage: 70.7+ KB\n"
     ]
    }
   ],
   "source": [
    "df.info()"
   ]
  },
  {
   "cell_type": "code",
   "execution_count": 6,
   "metadata": {},
   "outputs": [
    {
     "data": {
      "text/html": [
       "<div>\n",
       "<style scoped>\n",
       "    .dataframe tbody tr th:only-of-type {\n",
       "        vertical-align: middle;\n",
       "    }\n",
       "\n",
       "    .dataframe tbody tr th {\n",
       "        vertical-align: top;\n",
       "    }\n",
       "\n",
       "    .dataframe thead th {\n",
       "        text-align: right;\n",
       "    }\n",
       "</style>\n",
       "<table border=\"1\" class=\"dataframe\">\n",
       "  <thead>\n",
       "    <tr style=\"text-align: right;\">\n",
       "      <th></th>\n",
       "      <th>Rank</th>\n",
       "      <th>3-year revenue growth (%)</th>\n",
       "      <th>revenue_rank</th>\n",
       "      <th>Employees</th>\n",
       "      <th>feature_class</th>\n",
       "    </tr>\n",
       "  </thead>\n",
       "  <tbody>\n",
       "    <tr>\n",
       "      <th>count</th>\n",
       "      <td>430.000000</td>\n",
       "      <td>430.000000</td>\n",
       "      <td>430.000000</td>\n",
       "      <td>430.000000</td>\n",
       "      <td>0.0</td>\n",
       "    </tr>\n",
       "    <tr>\n",
       "      <th>mean</th>\n",
       "      <td>215.500000</td>\n",
       "      <td>499.844186</td>\n",
       "      <td>11.583721</td>\n",
       "      <td>233.206977</td>\n",
       "      <td>NaN</td>\n",
       "    </tr>\n",
       "    <tr>\n",
       "      <th>std</th>\n",
       "      <td>124.274562</td>\n",
       "      <td>1115.966984</td>\n",
       "      <td>2.618958</td>\n",
       "      <td>560.514874</td>\n",
       "      <td>NaN</td>\n",
       "    </tr>\n",
       "    <tr>\n",
       "      <th>min</th>\n",
       "      <td>1.000000</td>\n",
       "      <td>51.000000</td>\n",
       "      <td>1.000000</td>\n",
       "      <td>4.000000</td>\n",
       "      <td>NaN</td>\n",
       "    </tr>\n",
       "    <tr>\n",
       "      <th>25%</th>\n",
       "      <td>108.250000</td>\n",
       "      <td>99.000000</td>\n",
       "      <td>11.000000</td>\n",
       "      <td>35.000000</td>\n",
       "      <td>NaN</td>\n",
       "    </tr>\n",
       "    <tr>\n",
       "      <th>50%</th>\n",
       "      <td>215.500000</td>\n",
       "      <td>193.000000</td>\n",
       "      <td>12.000000</td>\n",
       "      <td>75.000000</td>\n",
       "      <td>NaN</td>\n",
       "    </tr>\n",
       "    <tr>\n",
       "      <th>75%</th>\n",
       "      <td>322.750000</td>\n",
       "      <td>428.000000</td>\n",
       "      <td>13.000000</td>\n",
       "      <td>195.000000</td>\n",
       "      <td>NaN</td>\n",
       "    </tr>\n",
       "    <tr>\n",
       "      <th>max</th>\n",
       "      <td>430.000000</td>\n",
       "      <td>12371.000000</td>\n",
       "      <td>14.000000</td>\n",
       "      <td>7500.000000</td>\n",
       "      <td>NaN</td>\n",
       "    </tr>\n",
       "  </tbody>\n",
       "</table>\n",
       "</div>"
      ],
      "text/plain": [
       "             Rank  3-year revenue growth (%)  revenue_rank    Employees  \\\n",
       "count  430.000000                 430.000000    430.000000   430.000000   \n",
       "mean   215.500000                 499.844186     11.583721   233.206977   \n",
       "std    124.274562                1115.966984      2.618958   560.514874   \n",
       "min      1.000000                  51.000000      1.000000     4.000000   \n",
       "25%    108.250000                  99.000000     11.000000    35.000000   \n",
       "50%    215.500000                 193.000000     12.000000    75.000000   \n",
       "75%    322.750000                 428.000000     13.000000   195.000000   \n",
       "max    430.000000               12371.000000     14.000000  7500.000000   \n",
       "\n",
       "       feature_class  \n",
       "count            0.0  \n",
       "mean             NaN  \n",
       "std              NaN  \n",
       "min              NaN  \n",
       "25%              NaN  \n",
       "50%              NaN  \n",
       "75%              NaN  \n",
       "max              NaN  "
      ]
     },
     "execution_count": 6,
     "metadata": {},
     "output_type": "execute_result"
    }
   ],
   "source": [
    "df.describe()"
   ]
  },
  {
   "cell_type": "code",
   "execution_count": 8,
   "metadata": {},
   "outputs": [
    {
     "name": "stderr",
     "output_type": "stream",
     "text": [
      "WARNING: You are using pip version 22.0.3; however, version 22.3 is available.\n",
      "You should consider upgrading via the 'C:\\Users\\guill\\Documents\\Data Science\\projects\\scraping\\TGAM - Canada Top 2022 Companies\\venv\\Scripts\\python.exe -m pip install --upgrade pip' command.\n"
     ]
    },
    {
     "name": "stdout",
     "output_type": "stream",
     "text": [
      "Requirement already satisfied: pandas-profiling in c:\\users\\guill\\documents\\data science\\projects\\scraping\\tgam - canada top 2022 companies\\venv\\lib\\site-packages (3.4.0)\n",
      "Requirement already satisfied: multimethod<1.10,>=1.4 in c:\\users\\guill\\documents\\data science\\projects\\scraping\\tgam - canada top 2022 companies\\venv\\lib\\site-packages (from pandas-profiling) (1.9)\n",
      "Requirement already satisfied: matplotlib<3.6,>=3.2 in c:\\users\\guill\\documents\\data science\\projects\\scraping\\tgam - canada top 2022 companies\\venv\\lib\\site-packages (from pandas-profiling) (3.5.3)\n",
      "Requirement already satisfied: scipy<1.10,>=1.4.1 in c:\\users\\guill\\documents\\data science\\projects\\scraping\\tgam - canada top 2022 companies\\venv\\lib\\site-packages (from pandas-profiling) (1.9.3)\n",
      "Requirement already satisfied: pydantic<1.11,>=1.8.1 in c:\\users\\guill\\documents\\data science\\projects\\scraping\\tgam - canada top 2022 companies\\venv\\lib\\site-packages (from pandas-profiling) (1.10.2)\n",
      "Requirement already satisfied: jinja2<3.2,>=2.11.1 in c:\\users\\guill\\documents\\data science\\projects\\scraping\\tgam - canada top 2022 companies\\venv\\lib\\site-packages (from pandas-profiling) (3.1.2)\n",
      "Requirement already satisfied: numpy<1.24,>=1.16.0 in c:\\users\\guill\\documents\\data science\\projects\\scraping\\tgam - canada top 2022 companies\\venv\\lib\\site-packages (from pandas-profiling) (1.23.4)\n",
      "Requirement already satisfied: requests<2.29,>=2.24.0 in c:\\users\\guill\\documents\\data science\\projects\\scraping\\tgam - canada top 2022 companies\\venv\\lib\\site-packages (from pandas-profiling) (2.28.1)\n",
      "Requirement already satisfied: statsmodels<0.14,>=0.13.2 in c:\\users\\guill\\documents\\data science\\projects\\scraping\\tgam - canada top 2022 companies\\venv\\lib\\site-packages (from pandas-profiling) (0.13.2)\n",
      "Requirement already satisfied: phik<0.13,>=0.11.1 in c:\\users\\guill\\documents\\data science\\projects\\scraping\\tgam - canada top 2022 companies\\venv\\lib\\site-packages (from pandas-profiling) (0.12.2)\n",
      "Requirement already satisfied: seaborn<0.13,>=0.10.1 in c:\\users\\guill\\documents\\data science\\projects\\scraping\\tgam - canada top 2022 companies\\venv\\lib\\site-packages (from pandas-profiling) (0.12.1)\n",
      "Requirement already satisfied: missingno<0.6,>=0.4.2 in c:\\users\\guill\\documents\\data science\\projects\\scraping\\tgam - canada top 2022 companies\\venv\\lib\\site-packages (from pandas-profiling) (0.5.1)\n",
      "Requirement already satisfied: htmlmin==0.1.12 in c:\\users\\guill\\documents\\data science\\projects\\scraping\\tgam - canada top 2022 companies\\venv\\lib\\site-packages (from pandas-profiling) (0.1.12)\n",
      "Requirement already satisfied: visions[type_image_path]==0.7.5 in c:\\users\\guill\\documents\\data science\\projects\\scraping\\tgam - canada top 2022 companies\\venv\\lib\\site-packages (from pandas-profiling) (0.7.5)\n",
      "Requirement already satisfied: tqdm<4.65,>=4.48.2 in c:\\users\\guill\\documents\\data science\\projects\\scraping\\tgam - canada top 2022 companies\\venv\\lib\\site-packages (from pandas-profiling) (4.64.1)\n",
      "Requirement already satisfied: pandas!=1.4.0,<1.6,>1.1 in c:\\users\\guill\\documents\\data science\\projects\\scraping\\tgam - canada top 2022 companies\\venv\\lib\\site-packages (from pandas-profiling) (1.5.1)\n",
      "Requirement already satisfied: PyYAML<6.1,>=5.0.0 in c:\\users\\guill\\documents\\data science\\projects\\scraping\\tgam - canada top 2022 companies\\venv\\lib\\site-packages (from pandas-profiling) (6.0)\n",
      "Requirement already satisfied: tangled-up-in-unicode>=0.0.4 in c:\\users\\guill\\documents\\data science\\projects\\scraping\\tgam - canada top 2022 companies\\venv\\lib\\site-packages (from visions[type_image_path]==0.7.5->pandas-profiling) (0.2.0)\n",
      "Requirement already satisfied: networkx>=2.4 in c:\\users\\guill\\documents\\data science\\projects\\scraping\\tgam - canada top 2022 companies\\venv\\lib\\site-packages (from visions[type_image_path]==0.7.5->pandas-profiling) (2.8.7)\n",
      "Requirement already satisfied: attrs>=19.3.0 in c:\\users\\guill\\documents\\data science\\projects\\scraping\\tgam - canada top 2022 companies\\venv\\lib\\site-packages (from visions[type_image_path]==0.7.5->pandas-profiling) (22.1.0)\n",
      "Requirement already satisfied: imagehash in c:\\users\\guill\\documents\\data science\\projects\\scraping\\tgam - canada top 2022 companies\\venv\\lib\\site-packages (from visions[type_image_path]==0.7.5->pandas-profiling) (4.3.1)\n",
      "Requirement already satisfied: Pillow in c:\\users\\guill\\documents\\data science\\projects\\scraping\\tgam - canada top 2022 companies\\venv\\lib\\site-packages (from visions[type_image_path]==0.7.5->pandas-profiling) (9.2.0)\n",
      "Requirement already satisfied: MarkupSafe>=2.0 in c:\\users\\guill\\documents\\data science\\projects\\scraping\\tgam - canada top 2022 companies\\venv\\lib\\site-packages (from jinja2<3.2,>=2.11.1->pandas-profiling) (2.1.1)\n",
      "Requirement already satisfied: cycler>=0.10 in c:\\users\\guill\\documents\\data science\\projects\\scraping\\tgam - canada top 2022 companies\\venv\\lib\\site-packages (from matplotlib<3.6,>=3.2->pandas-profiling) (0.11.0)\n",
      "Requirement already satisfied: packaging>=20.0 in c:\\users\\guill\\documents\\data science\\projects\\scraping\\tgam - canada top 2022 companies\\venv\\lib\\site-packages (from matplotlib<3.6,>=3.2->pandas-profiling) (21.3)\n",
      "Requirement already satisfied: python-dateutil>=2.7 in c:\\users\\guill\\documents\\data science\\projects\\scraping\\tgam - canada top 2022 companies\\venv\\lib\\site-packages (from matplotlib<3.6,>=3.2->pandas-profiling) (2.8.2)\n",
      "Requirement already satisfied: fonttools>=4.22.0 in c:\\users\\guill\\documents\\data science\\projects\\scraping\\tgam - canada top 2022 companies\\venv\\lib\\site-packages (from matplotlib<3.6,>=3.2->pandas-profiling) (4.38.0)\n",
      "Requirement already satisfied: kiwisolver>=1.0.1 in c:\\users\\guill\\documents\\data science\\projects\\scraping\\tgam - canada top 2022 companies\\venv\\lib\\site-packages (from matplotlib<3.6,>=3.2->pandas-profiling) (1.4.4)\n",
      "Requirement already satisfied: pyparsing>=2.2.1 in c:\\users\\guill\\documents\\data science\\projects\\scraping\\tgam - canada top 2022 companies\\venv\\lib\\site-packages (from matplotlib<3.6,>=3.2->pandas-profiling) (3.0.9)\n",
      "Requirement already satisfied: pytz>=2020.1 in c:\\users\\guill\\documents\\data science\\projects\\scraping\\tgam - canada top 2022 companies\\venv\\lib\\site-packages (from pandas!=1.4.0,<1.6,>1.1->pandas-profiling) (2022.5)\n",
      "Requirement already satisfied: joblib>=0.14.1 in c:\\users\\guill\\documents\\data science\\projects\\scraping\\tgam - canada top 2022 companies\\venv\\lib\\site-packages (from phik<0.13,>=0.11.1->pandas-profiling) (1.2.0)\n",
      "Requirement already satisfied: typing-extensions>=4.1.0 in c:\\users\\guill\\documents\\data science\\projects\\scraping\\tgam - canada top 2022 companies\\venv\\lib\\site-packages (from pydantic<1.11,>=1.8.1->pandas-profiling) (4.4.0)\n",
      "Requirement already satisfied: certifi>=2017.4.17 in c:\\users\\guill\\documents\\data science\\projects\\scraping\\tgam - canada top 2022 companies\\venv\\lib\\site-packages (from requests<2.29,>=2.24.0->pandas-profiling) (2022.9.24)\n",
      "Requirement already satisfied: charset-normalizer<3,>=2 in c:\\users\\guill\\documents\\data science\\projects\\scraping\\tgam - canada top 2022 companies\\venv\\lib\\site-packages (from requests<2.29,>=2.24.0->pandas-profiling) (2.1.1)\n",
      "Requirement already satisfied: idna<4,>=2.5 in c:\\users\\guill\\documents\\data science\\projects\\scraping\\tgam - canada top 2022 companies\\venv\\lib\\site-packages (from requests<2.29,>=2.24.0->pandas-profiling) (3.4)\n",
      "Requirement already satisfied: urllib3<1.27,>=1.21.1 in c:\\users\\guill\\documents\\data science\\projects\\scraping\\tgam - canada top 2022 companies\\venv\\lib\\site-packages (from requests<2.29,>=2.24.0->pandas-profiling) (1.26.12)\n",
      "Requirement already satisfied: patsy>=0.5.2 in c:\\users\\guill\\documents\\data science\\projects\\scraping\\tgam - canada top 2022 companies\\venv\\lib\\site-packages (from statsmodels<0.14,>=0.13.2->pandas-profiling) (0.5.3)\n",
      "Requirement already satisfied: colorama in c:\\users\\guill\\documents\\data science\\projects\\scraping\\tgam - canada top 2022 companies\\venv\\lib\\site-packages (from tqdm<4.65,>=4.48.2->pandas-profiling) (0.4.5)\n",
      "Requirement already satisfied: six in c:\\users\\guill\\documents\\data science\\projects\\scraping\\tgam - canada top 2022 companies\\venv\\lib\\site-packages (from patsy>=0.5.2->statsmodels<0.14,>=0.13.2->pandas-profiling) (1.16.0)\n",
      "Requirement already satisfied: PyWavelets in c:\\users\\guill\\documents\\data science\\projects\\scraping\\tgam - canada top 2022 companies\\venv\\lib\\site-packages (from imagehash->visions[type_image_path]==0.7.5->pandas-profiling) (1.4.1)\n"
     ]
    }
   ],
   "source": [
    "!pip install pandas-profiling"
   ]
  },
  {
   "cell_type": "code",
   "execution_count": 7,
   "metadata": {},
   "outputs": [
    {
     "ename": "ModuleNotFoundError",
     "evalue": "No module named 'pandas_profiling'",
     "output_type": "error",
     "traceback": [
      "\u001b[1;31m---------------------------------------------------------------------------\u001b[0m",
      "\u001b[1;31mModuleNotFoundError\u001b[0m                       Traceback (most recent call last)",
      "\u001b[1;32m<ipython-input-7-e2a33329b6f0>\u001b[0m in \u001b[0;36m<module>\u001b[1;34m\u001b[0m\n\u001b[1;32m----> 1\u001b[1;33m \u001b[1;32mfrom\u001b[0m \u001b[0mpandas_profiling\u001b[0m \u001b[1;32mimport\u001b[0m \u001b[0mProfileReport\u001b[0m\u001b[1;33m\u001b[0m\u001b[1;33m\u001b[0m\u001b[0m\n\u001b[0m",
      "\u001b[1;31mModuleNotFoundError\u001b[0m: No module named 'pandas_profiling'"
     ]
    }
   ],
   "source": [
    "from pandas_profiling import ProfileReport"
   ]
  },
  {
   "cell_type": "code",
   "execution_count": null,
   "metadata": {},
   "outputs": [],
   "source": []
  }
 ],
 "metadata": {
  "kernelspec": {
   "display_name": "Python 3.7.9 64-bit",
   "language": "python",
   "name": "python3"
  },
  "language_info": {
   "codemirror_mode": {
    "name": "ipython",
    "version": 3
   },
   "file_extension": ".py",
   "mimetype": "text/x-python",
   "name": "python",
   "nbconvert_exporter": "python",
   "pygments_lexer": "ipython3",
   "version": "3.7.9"
  },
  "vscode": {
   "interpreter": {
    "hash": "b6bcca54db4c0c8eaa2eed02f25f546cde554aaf314efbcc82ae8ce92e1eb332"
   }
  }
 },
 "nbformat": 4,
 "nbformat_minor": 2
}
